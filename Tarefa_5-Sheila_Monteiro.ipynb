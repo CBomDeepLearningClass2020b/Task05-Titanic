{
  "nbformat": 4,
  "nbformat_minor": 0,
  "metadata": {
    "colab": {
      "name": "Tarefa_5.2.ipynb",
      "provenance": [],
      "collapsed_sections": [
        "VcE59XjAkTpC"
      ]
    },
    "kernelspec": {
      "name": "python3",
      "display_name": "Python 3"
    }
  },
  "cells": [
    {
      "cell_type": "code",
      "metadata": {
        "id": "BcWZloT1uiFA",
        "colab": {
          "base_uri": "https://localhost:8080/",
          "height": 89
        },
        "outputId": "018531df-e7a9-4026-cc38-d90bef0ab33f"
      },
      "source": [
        "!unzip '/content/drive/My Drive/Colab Notebooks/DL/Ex_5/titanic.zip' \n"
      ],
      "execution_count": null,
      "outputs": [
        {
          "output_type": "stream",
          "text": [
            "Archive:  /content/drive/My Drive/Colab Notebooks/DL/Ex_5/titanic.zip\n",
            "  inflating: gender_submission.csv   \n",
            "  inflating: test.csv                \n",
            "  inflating: train.csv               \n"
          ],
          "name": "stdout"
        }
      ]
    },
    {
      "cell_type": "code",
      "metadata": {
        "id": "RUHVpHoavJwp"
      },
      "source": [
        "import numpy as np\n",
        "import pandas as pd\n",
        "import tensorflow as tf\n",
        "from tensorflow import keras\n",
        "import matplotlib.pyplot as plt\n",
        "import matplotlib.image as mpimg\n",
        "import seaborn as sns\n"
      ],
      "execution_count": null,
      "outputs": []
    },
    {
      "cell_type": "markdown",
      "metadata": {
        "id": "Z7A1HF-_u4Gv"
      },
      "source": [
        "Importando conjunto de treino:"
      ]
    },
    {
      "cell_type": "code",
      "metadata": {
        "id": "VAIsbAc0vNcs",
        "colab": {
          "base_uri": "https://localhost:8080/",
          "height": 53
        },
        "outputId": "b8ed33ae-94ba-4b61-85db-5b77084f5c9e"
      },
      "source": [
        "df = pd.read_csv('/content/train.csv')\n",
        "\n",
        "print(list(df))\n",
        "print(df.shape)\n"
      ],
      "execution_count": null,
      "outputs": [
        {
          "output_type": "stream",
          "text": [
            "['PassengerId', 'Survived', 'Pclass', 'Name', 'Sex', 'Age', 'SibSp', 'Parch', 'Ticket', 'Fare', 'Cabin', 'Embarked']\n",
            "(891, 12)\n"
          ],
          "name": "stdout"
        }
      ]
    },
    {
      "cell_type": "markdown",
      "metadata": {
        "id": "BadXEIkWpJGn"
      },
      "source": [
        "# **Definindo Funções:**"
      ]
    },
    {
      "cell_type": "markdown",
      "metadata": {
        "id": "MQxtOtr5pM-O"
      },
      "source": [
        "Função para criar a matrix de confusão:"
      ]
    },
    {
      "cell_type": "code",
      "metadata": {
        "id": "Ycvfuy38axmK"
      },
      "source": [
        "from sklearn.metrics import confusion_matrix\n",
        "\n",
        "def c_matrix(y_true,y_pred):\n",
        "  \n",
        "  classes = ['Survived','Not Survived']\n",
        "\n",
        "  cm = confusion_matrix(y_true, y_pred)\n",
        "\n",
        "  ax= plt.subplot()\n",
        "  sns.heatmap(cm, annot=True, ax = ax); #annot=True to annotate cells\n",
        "\n",
        "  # labels, title and ticks\n",
        "  ax.set_xlabel('Predicted labels')\n",
        "  ax.set_ylabel('True labels') \n",
        "  ax.set_title('Confusion Matrix')\n",
        "  ax.xaxis.set_ticklabels(classes) \n",
        "  ax.yaxis.set_ticklabels(classes);\n",
        "\n",
        "#minimize false positive seems more important"
      ],
      "execution_count": null,
      "outputs": []
    },
    {
      "cell_type": "markdown",
      "metadata": {
        "id": "aZWZfGPYpQlE"
      },
      "source": [
        "Função para plotar a loss e acurácia gerados no treino:"
      ]
    },
    {
      "cell_type": "code",
      "metadata": {
        "id": "27RXZ3D4gh_5"
      },
      "source": [
        "def plot_history(model_fit):\n",
        "\n",
        "  print(model_fit.history.keys())\n",
        "  # summarize history for accuracy\n",
        "  plt.plot(model_fit.history['accuracy'])\n",
        "  plt.plot(model_fit.history['val_accuracy'])\n",
        "  plt.title('model accuracy')\n",
        "  plt.ylabel('accuracy')\n",
        "  plt.xlabel('epoch')\n",
        "  plt.legend(['train', 'test'], loc='upper left')\n",
        "  plt.show()\n",
        "  \n",
        "  # summarize history for loss\n",
        "  plt.plot(model_fit.history['loss'])\n",
        "  plt.plot(model_fit.history['val_loss'])\n",
        "  plt.title('model loss')\n",
        "  plt.ylabel('loss')\n",
        "  plt.xlabel('epoch')\n",
        "  plt.legend(['train', 'test'], loc='upper left')\n",
        "  plt.show()\n"
      ],
      "execution_count": null,
      "outputs": []
    },
    {
      "cell_type": "markdown",
      "metadata": {
        "id": "JuPRAtPHpcqC"
      },
      "source": [
        "# **Pré-Processamento dos Dados:**"
      ]
    },
    {
      "cell_type": "markdown",
      "metadata": {
        "id": "dliizD-S6POK"
      },
      "source": [
        "Verificando se há linhas duplicadas:"
      ]
    },
    {
      "cell_type": "code",
      "metadata": {
        "id": "NcE2ux4l512m",
        "colab": {
          "base_uri": "https://localhost:8080/",
          "height": 89
        },
        "outputId": "4c2876ef-1b7e-4957-b5a6-ff2668981b73"
      },
      "source": [
        "# calculate duplicates\n",
        "dups = df.duplicated()\n",
        "# report if there are any duplicates\n",
        "print(df.duplicated().any())\n",
        "# list all duplicate rows\n",
        "print(df[dups])"
      ],
      "execution_count": null,
      "outputs": [
        {
          "output_type": "stream",
          "text": [
            "False\n",
            "Empty DataFrame\n",
            "Columns: [PassengerId, Survived, Pclass, Name, Sex, Age, SibSp, Parch, Ticket, Fare, Cabin, Embarked]\n",
            "Index: []\n"
          ],
          "name": "stdout"
        }
      ]
    },
    {
      "cell_type": "markdown",
      "metadata": {
        "id": "CHHslNSB3d1J"
      },
      "source": [
        "Contando valores únicos para cada coluna:"
      ]
    },
    {
      "cell_type": "code",
      "metadata": {
        "id": "ys8-crAn19A4",
        "colab": {
          "base_uri": "https://localhost:8080/",
          "height": 233
        },
        "outputId": "1d9ea1e3-d840-42b0-8845-22e1dd6e65ba"
      },
      "source": [
        "from numpy import unique\n",
        "\n",
        "for i in list(df):\n",
        "\tprint(i,len(df[i].unique()))"
      ],
      "execution_count": null,
      "outputs": [
        {
          "output_type": "stream",
          "text": [
            "PassengerId 891\n",
            "Survived 2\n",
            "Pclass 3\n",
            "Name 891\n",
            "Sex 2\n",
            "Age 89\n",
            "SibSp 7\n",
            "Parch 7\n",
            "Ticket 681\n",
            "Fare 248\n",
            "Cabin 148\n",
            "Embarked 4\n"
          ],
          "name": "stdout"
        }
      ]
    },
    {
      "cell_type": "markdown",
      "metadata": {
        "id": "NseJtMxwtV8Z"
      },
      "source": [
        "Contando valores faltantes:"
      ]
    },
    {
      "cell_type": "code",
      "metadata": {
        "id": "t6eh6vBO5f44",
        "colab": {
          "base_uri": "https://localhost:8080/",
          "height": 269
        },
        "outputId": "8617f4c7-0185-4c6b-cd05-f7b7196125cf"
      },
      "source": [
        "print(df.shape)\n",
        "print(df.isna().sum())"
      ],
      "execution_count": null,
      "outputs": [
        {
          "output_type": "stream",
          "text": [
            "(891, 12)\n",
            "PassengerId      0\n",
            "Survived         0\n",
            "Pclass           0\n",
            "Name             0\n",
            "Sex              0\n",
            "Age            177\n",
            "SibSp            0\n",
            "Parch            0\n",
            "Ticket           0\n",
            "Fare             0\n",
            "Cabin          687\n",
            "Embarked         2\n",
            "dtype: int64\n"
          ],
          "name": "stdout"
        }
      ]
    },
    {
      "cell_type": "markdown",
      "metadata": {
        "id": "ss1mtn0G2FAC"
      },
      "source": [
        "### **Preenchendo Valores Faltantes para Idade**"
      ]
    },
    {
      "cell_type": "markdown",
      "metadata": {
        "id": "tmumylByqDWx"
      },
      "source": [
        "Os valores faltantes para idade serão preenchidos de acordo com a mediana da distribuição de idades associada a titulação dos passageiros. Abaixo, extraímos os títulos dos nomes, e criamos uma coluna com esses títulos referentes a cada passageiro:"
      ]
    },
    {
      "cell_type": "code",
      "metadata": {
        "id": "XBG3ZkpL1PVU",
        "colab": {
          "base_uri": "https://localhost:8080/",
          "height": 71
        },
        "outputId": "e93d31cb-7c44-4822-b66a-837c58612c94"
      },
      "source": [
        "df['Title'] = df['Name'].str.extract('([A-Za-z]+)\\.', expand=True)\n",
        "df['Title'].unique()"
      ],
      "execution_count": null,
      "outputs": [
        {
          "output_type": "execute_result",
          "data": {
            "text/plain": [
              "array(['Mr', 'Mrs', 'Miss', 'Master', 'Don', 'Rev', 'Dr', 'Mme', 'Ms',\n",
              "       'Major', 'Lady', 'Sir', 'Mlle', 'Col', 'Capt', 'Countess',\n",
              "       'Jonkheer'], dtype=object)"
            ]
          },
          "metadata": {
            "tags": []
          },
          "execution_count": 14
        }
      ]
    },
    {
      "cell_type": "markdown",
      "metadata": {
        "id": "BVjiIY_Twf_g"
      },
      "source": [
        "Em seguida, substituímos os valores faltates das idades pela mediana da distribuição das idades referente a cada título: "
      ]
    },
    {
      "cell_type": "code",
      "metadata": {
        "id": "7Bqw_oqBAKx5",
        "colab": {
          "base_uri": "https://localhost:8080/",
          "height": 323
        },
        "outputId": "fc9aa470-fadf-4687-c917-95a7e24e42ab"
      },
      "source": [
        "for title, age in df.groupby('Title')['Age'].median().iteritems():\n",
        "    print(title, age)\n",
        "    df.loc[(df['Title']==title) & (df['Age'].isnull()), 'Age'] = age"
      ],
      "execution_count": null,
      "outputs": [
        {
          "output_type": "stream",
          "text": [
            "Capt 70.0\n",
            "Col 58.0\n",
            "Countess 33.0\n",
            "Don 40.0\n",
            "Dr 46.5\n",
            "Jonkheer 38.0\n",
            "Lady 48.0\n",
            "Major 48.5\n",
            "Master 3.5\n",
            "Miss 21.0\n",
            "Mlle 24.0\n",
            "Mme 24.0\n",
            "Mr 30.0\n",
            "Mrs 35.0\n",
            "Ms 28.0\n",
            "Rev 46.5\n",
            "Sir 49.0\n"
          ],
          "name": "stdout"
        }
      ]
    },
    {
      "cell_type": "markdown",
      "metadata": {
        "id": "ehWAsyy-riFI"
      },
      "source": [
        "### **Dropping Values**"
      ]
    },
    {
      "cell_type": "markdown",
      "metadata": {
        "id": "YadpBz0ixNaQ"
      },
      "source": [
        "A coluna 'Cabin' possui mais de 70% dos valores faltantes, por isso será excluída. Consideramos que as colunas 'Name' e 'PassengengerId' não serão relevantes para as predições, portanto serão excluidas. As colunas 'Ticket' e 'Title' serão excluidas pois, de acordo com os resultados da validação, pioram a performance do modelo:\n"
      ]
    },
    {
      "cell_type": "code",
      "metadata": {
        "id": "abMHOlY12XIY",
        "colab": {
          "base_uri": "https://localhost:8080/",
          "height": 197
        },
        "outputId": "18d06114-2b86-49e3-c197-1b48bbcecf12"
      },
      "source": [
        "#deleting columns: 'Cabin', 'Name' and 'PassengerId'\n",
        "df_drop = df.drop(columns=['Name','Cabin','PassengerId','Ticket','Title'])\n",
        "\n",
        "#deleting 2 rows with missing values on 'Embarked' column\n",
        "df_drop = df_drop.dropna(subset=['Embarked'])\n",
        "\n",
        "#verifying presence of missing values\n",
        "print(df_drop.isna().sum())\n",
        "print(df_drop.shape)"
      ],
      "execution_count": null,
      "outputs": [
        {
          "output_type": "stream",
          "text": [
            "Survived    0\n",
            "Pclass      0\n",
            "Sex         0\n",
            "Age         0\n",
            "SibSp       0\n",
            "Parch       0\n",
            "Fare        0\n",
            "Embarked    0\n",
            "dtype: int64\n",
            "(889, 8)\n"
          ],
          "name": "stdout"
        }
      ]
    },
    {
      "cell_type": "markdown",
      "metadata": {
        "id": "sgwtqAafrtpu"
      },
      "source": [
        "\n",
        "### **Encoding and Scaling Data**"
      ]
    },
    {
      "cell_type": "markdown",
      "metadata": {
        "id": "mozRlM7z_3ig"
      },
      "source": [
        "Processando valores categóricos:"
      ]
    },
    {
      "cell_type": "code",
      "metadata": {
        "id": "z_AnrZW7Uebq"
      },
      "source": [
        "from sklearn import preprocessing\n",
        "\n",
        "#onehot encoding columns 'Sex', 'Embarked' and 'Pclass'\n",
        "data_encoded = pd.get_dummies(df_drop, columns = ['Sex','Embarked','Pclass'])"
      ],
      "execution_count": null,
      "outputs": []
    },
    {
      "cell_type": "markdown",
      "metadata": {
        "id": "CPIQKBqa_-Oe"
      },
      "source": [
        "Reescalando dados 'Fare' e 'Age':"
      ]
    },
    {
      "cell_type": "code",
      "metadata": {
        "id": "H7luVdGw_12B"
      },
      "source": [
        "#reescaling 'Fare' and 'Age'\n",
        "\n",
        "data_encoded[['Fare','Age']] = preprocessing.StandardScaler().fit_transform(data_encoded[['Fare','Age']])"
      ],
      "execution_count": null,
      "outputs": []
    },
    {
      "cell_type": "markdown",
      "metadata": {
        "id": "YcX6ZY2GrzLP"
      },
      "source": [
        "Plotando matriz de correlação entre os dados:"
      ]
    },
    {
      "cell_type": "code",
      "metadata": {
        "id": "hjYfXJkxwfk2",
        "colab": {
          "base_uri": "https://localhost:8080/",
          "height": 703
        },
        "outputId": "7cb527dc-046f-45d6-8e0c-87af62eb880c"
      },
      "source": [
        "#features used on heat map\n",
        "\n",
        "df_heat = pd.get_dummies(data_encoded, columns = ['Survived'])\n",
        "\n",
        "corr = df_heat.corr()\n",
        "fig, ax = plt.subplots(figsize=(11,11)) \n",
        "sns.heatmap(corr, \n",
        "        xticklabels=corr.columns,\n",
        "        yticklabels=corr.columns,\n",
        "        vmin=0, vmax=1,\n",
        "        cmap=\"coolwarm\",\n",
        "        linewidths=.5,\n",
        "        annot=True, \n",
        "        ax=ax\n",
        "        )\n",
        "plt.show()"
      ],
      "execution_count": null,
      "outputs": [
        {
          "output_type": "display_data",
          "data": {
            "image/png": "[encoded data removed]",
            "text/plain": [
              "<Figure size 792x792 with 2 Axes>"
            ]
          },
          "metadata": {
            "tags": [],
            "needs_background": "light"
          }
        }
      ]
    },
    {
      "cell_type": "code",
      "metadata": {
        "id": "CiwW_PDLI1Ku",
        "colab": {
          "base_uri": "https://localhost:8080/",
          "height": 485
        },
        "outputId": "ca51674e-d663-420b-ca72-3cfc72cd2105"
      },
      "source": [
        "print(pd.get_dummies(data_encoded['Survived']))\n",
        "print((data_encoded['Survived']))"
      ],
      "execution_count": null,
      "outputs": [
        {
          "output_type": "stream",
          "text": [
            "     0  1\n",
            "0    1  0\n",
            "1    0  1\n",
            "2    0  1\n",
            "3    0  1\n",
            "4    1  0\n",
            "..  .. ..\n",
            "886  1  0\n",
            "887  0  1\n",
            "888  1  0\n",
            "889  0  1\n",
            "890  1  0\n",
            "\n",
            "[889 rows x 2 columns]\n",
            "0      0\n",
            "1      1\n",
            "2      1\n",
            "3      1\n",
            "4      0\n",
            "      ..\n",
            "886    0\n",
            "887    1\n",
            "888    0\n",
            "889    1\n",
            "890    0\n",
            "Name: Survived, Length: 889, dtype: int64\n"
          ],
          "name": "stdout"
        }
      ]
    },
    {
      "cell_type": "markdown",
      "metadata": {
        "id": "fZVDgshoA6WB"
      },
      "source": [
        "### **Separação dos Dados**\n",
        "\n",
        "Separando dados em conjuntos de treino e validação:"
      ]
    },
    {
      "cell_type": "code",
      "metadata": {
        "id": "qPFki_ASVzrJ"
      },
      "source": [
        "from sklearn.model_selection import train_test_split\n",
        "\n",
        "X = data_encoded.drop(columns = ['Survived'])\n",
        "y = data_encoded['Survived']\n",
        "\n",
        "X_train, X_val, y_train, y_val = train_test_split(\n",
        "    X,\n",
        "    y, \n",
        "    stratify=y, \n",
        "    test_size=0.2, \n",
        "    random_state=32)\n"
      ],
      "execution_count": null,
      "outputs": []
    },
    {
      "cell_type": "markdown",
      "metadata": {
        "id": "tgLC8e31sJqc"
      },
      "source": [
        "# **Configurando Modelo**\n",
        "\n",
        "Rede Neural Sequencial:"
      ]
    },
    {
      "cell_type": "code",
      "metadata": {
        "id": "I5VXJOvWUvvT"
      },
      "source": [
        "from tensorflow.keras.models import Sequential\n",
        "from tensorflow.keras.layers import Dense,Dropout,BatchNormalization, Activation\n",
        "from keras.regularizers import l1\n",
        "\n",
        "model = Sequential([\n",
        "  Dense(64, activation='relu', activity_regularizer=l1(0.0001)),\n",
        "  Activation('relu'),\n",
        "  BatchNormalization(),\n",
        "  #Dropout(0.3),\n",
        "  Dense(32, activation='relu'),\n",
        "  #BatchNormalization(),\n",
        "  Dropout(0.3),\n",
        "  Dense(32, activation='relu'),\n",
        "  BatchNormalization(),\n",
        "  #Dropout(0.2),\n",
        "   Dense(2, activation='softmax'),\n",
        "])\n"
      ],
      "execution_count": null,
      "outputs": []
    },
    {
      "cell_type": "markdown",
      "metadata": {
        "id": "C26PdvYGsQks"
      },
      "source": [
        "Compilando:"
      ]
    },
    {
      "cell_type": "code",
      "metadata": {
        "id": "2_8MgHXvVEDO"
      },
      "source": [
        "opt = keras.optimizers.Adam(learning_rate=0.0001)\n",
        "\n",
        "model.compile(\n",
        "  optimizer=opt,\n",
        "  loss='categorical_crossentropy',\n",
        "  metrics='accuracy',\n",
        ")"
      ],
      "execution_count": null,
      "outputs": []
    },
    {
      "cell_type": "markdown",
      "metadata": {
        "id": "diFyoChjsSYO"
      },
      "source": [
        "Treinando o modelo e avaliando a performance:"
      ]
    },
    {
      "cell_type": "code",
      "metadata": {
        "id": "MkMvACHsVSsY",
        "colab": {
          "base_uri": "https://localhost:8080/",
          "height": 737
        },
        "outputId": "172c9a38-f2e5-466d-f97f-77afad88df12"
      },
      "source": [
        "from tensorflow.keras.utils import to_categorical\n",
        "\n",
        "history = model.fit(\n",
        "  X_train,to_categorical(y_train),\n",
        "  epochs=100,\n",
        "  validation_data = (X_val,to_categorical(y_val)),\n",
        "  batch_size = 32,\n",
        "  verbose=0\n",
        ")\n",
        "\n",
        "plot_history(history)"
      ],
      "execution_count": null,
      "outputs": [
        {
          "output_type": "stream",
          "text": [
            "WARNING:tensorflow:Layer dense_4 is casting an input tensor from dtype float64 to the layer's dtype of float32, which is new behavior in TensorFlow 2.  The layer has dtype float32 because its dtype defaults to floatx.\n",
            "\n",
            "If you intended to run this layer in float32, you can safely ignore this warning. If in doubt, this warning is likely only an issue if you are porting a TensorFlow 1.X model to TensorFlow 2.\n",
            "\n",
            "To change all layers to have dtype float64 by default, call `tf.keras.backend.set_floatx('float64')`. To change just this layer, pass dtype='float64' to the layer constructor. If you are the author of this layer, you can disable autocasting by passing autocast=False to the base Layer constructor.\n",
            "\n",
            "WARNING:tensorflow:5 out of the last 13 calls to <function Model.make_test_function.<locals>.test_function at 0x7fb56ded20d0> triggered tf.function retracing. Tracing is expensive and the excessive number of tracings could be due to (1) creating @tf.function repeatedly in a loop, (2) passing tensors with different shapes, (3) passing Python objects instead of tensors. For (1), please define your @tf.function outside of the loop. For (2), @tf.function has experimental_relax_shapes=True option that relaxes argument shapes that can avoid unnecessary retracing. For (3), please refer to https://www.tensorflow.org/tutorials/customization/performance#python_or_tensor_args and https://www.tensorflow.org/api_docs/python/tf/function for  more details.\n",
            "dict_keys(['loss', 'accuracy', 'val_loss', 'val_accuracy'])\n"
          ],
          "name": "stdout"
        },
        {
          "output_type": "display_data",
          "data": {
            "image/png": "[encoded data removed]",
            "text/plain": [
              "<Figure size 432x288 with 1 Axes>"
            ]
          },
          "metadata": {
            "tags": [],
            "needs_background": "light"
          }
        },
        {
          "output_type": "display_data",
          "data": {
            "image/png": "[encoded data removed]",
            "text/plain": [
              "<Figure size 432x288 with 1 Axes>"
            ]
          },
          "metadata": {
            "tags": [],
            "needs_background": "light"
          }
        }
      ]
    },
    {
      "cell_type": "markdown",
      "metadata": {
        "id": "ycCPpYidsY-F"
      },
      "source": [
        "Salvando os pesos:"
      ]
    },
    {
      "cell_type": "code",
      "metadata": {
        "id": "oDHDqxZyZ3Wx"
      },
      "source": [
        "model.save_weights('/content/model.h5') #saving model to disk\n"
      ],
      "execution_count": null,
      "outputs": []
    },
    {
      "cell_type": "markdown",
      "metadata": {
        "id": "1f_YvaoZFiiU"
      },
      "source": [
        "# **Avaliando a Performance**\n",
        "### **Cross-Validation:**"
      ]
    },
    {
      "cell_type": "code",
      "metadata": {
        "id": "7yglAgklF0QW",
        "colab": {
          "base_uri": "https://localhost:8080/",
          "height": 883
        },
        "outputId": "4ced5fdc-f9ba-44a3-f404-1fad22dd07ac"
      },
      "source": [
        "from sklearn.model_selection import KFold\n",
        "\n",
        "\n",
        "#loading model's weight (defined on prediction section):\n",
        "\n",
        "# Define per-fold score containers\n",
        "acc_per_fold = []\n",
        "loss_per_fold = []\n",
        "\n",
        "# Define the K-fold Cross Validator\n",
        "kfold = KFold(n_splits=10, shuffle=True)\n",
        "\n",
        "# K-fold Cross Validation model evaluation\n",
        "fold_no = 1\n",
        "\n",
        "weights_cv = '/content/model.h5'\n",
        "\n",
        "\n",
        "for train, test in kfold.split(X, y):\n",
        "\n",
        "  model_cv = model\n",
        "\n",
        "  model_cv.load_weights(weights_cv)\n",
        "\n",
        "  model_cv.compile(\n",
        "    optimizer=opt,\n",
        "    loss='categorical_crossentropy',\n",
        "    metrics='accuracy',\n",
        "  )\n",
        "\n",
        "  # Generate a print\n",
        "  print('------------------------------------------------------------------------')\n",
        "  print(f'Training for fold {fold_no} ...')\n",
        "\n",
        "  # Fit data to model\n",
        "  model_cv.fit(\n",
        "        X.iloc[train],\n",
        "        to_categorical(y.iloc[train]),\n",
        "        epochs=100,\n",
        "        batch_size = 32,\n",
        "        verbose=0\n",
        "      )\n",
        "\n",
        "  # Generate generalization metrics\n",
        "  scores = model_cv.evaluate(X.iloc[test],to_categorical(y.iloc[test]))\n",
        "  print(f'Score for fold {fold_no}: {model_cv.metrics_names[0]} of {scores[0]}; {model_cv.metrics_names[1]} of {scores[1]*100}%')\n",
        "  acc_per_fold.append(scores[1] * 100)\n",
        "  loss_per_fold.append(scores[0])\n",
        "\n",
        "  # Increase fold number\n",
        "  fold_no = fold_no + 1\n"
      ],
      "execution_count": null,
      "outputs": [
        {
          "output_type": "stream",
          "text": [
            "------------------------------------------------------------------------\n",
            "Training for fold 1 ...\n",
            "3/3 [==============================] - 0s 2ms/step - loss: 0.3594 - accuracy: 0.8427\n",
            "Score for fold 1: loss of 0.35939693450927734; accuracy of 84.26966071128845%\n",
            "------------------------------------------------------------------------\n",
            "Training for fold 2 ...\n",
            "3/3 [==============================] - 0s 3ms/step - loss: 0.4663 - accuracy: 0.8090\n",
            "Score for fold 2: loss of 0.4663206934928894; accuracy of 80.89887499809265%\n",
            "------------------------------------------------------------------------\n",
            "Training for fold 3 ...\n",
            "3/3 [==============================] - 0s 2ms/step - loss: 0.5049 - accuracy: 0.8315\n",
            "Score for fold 3: loss of 0.5049459338188171; accuracy of 83.14606547355652%\n",
            "------------------------------------------------------------------------\n",
            "Training for fold 4 ...\n",
            "WARNING:tensorflow:5 out of the last 610 calls to <function Model.make_test_function.<locals>.test_function at 0x7fb56f1c8158> triggered tf.function retracing. Tracing is expensive and the excessive number of tracings could be due to (1) creating @tf.function repeatedly in a loop, (2) passing tensors with different shapes, (3) passing Python objects instead of tensors. For (1), please define your @tf.function outside of the loop. For (2), @tf.function has experimental_relax_shapes=True option that relaxes argument shapes that can avoid unnecessary retracing. For (3), please refer to https://www.tensorflow.org/tutorials/customization/performance#python_or_tensor_args and https://www.tensorflow.org/api_docs/python/tf/function for  more details.\n",
            "3/3 [==============================] - 0s 3ms/step - loss: 0.4669 - accuracy: 0.8090\n",
            "Score for fold 4: loss of 0.46690693497657776; accuracy of 80.89887499809265%\n",
            "------------------------------------------------------------------------\n",
            "Training for fold 5 ...\n",
            "WARNING:tensorflow:5 out of the last 13 calls to <function Model.make_test_function.<locals>.test_function at 0x7fb572cb8268> triggered tf.function retracing. Tracing is expensive and the excessive number of tracings could be due to (1) creating @tf.function repeatedly in a loop, (2) passing tensors with different shapes, (3) passing Python objects instead of tensors. For (1), please define your @tf.function outside of the loop. For (2), @tf.function has experimental_relax_shapes=True option that relaxes argument shapes that can avoid unnecessary retracing. For (3), please refer to https://www.tensorflow.org/tutorials/customization/performance#python_or_tensor_args and https://www.tensorflow.org/api_docs/python/tf/function for  more details.\n",
            "3/3 [==============================] - 0s 2ms/step - loss: 0.5484 - accuracy: 0.7528\n",
            "Score for fold 5: loss of 0.5484333038330078; accuracy of 75.28089880943298%\n",
            "------------------------------------------------------------------------\n",
            "Training for fold 6 ...\n",
            "WARNING:tensorflow:5 out of the last 13 calls to <function Model.make_test_function.<locals>.test_function at 0x7fb577d13950> triggered tf.function retracing. Tracing is expensive and the excessive number of tracings could be due to (1) creating @tf.function repeatedly in a loop, (2) passing tensors with different shapes, (3) passing Python objects instead of tensors. For (1), please define your @tf.function outside of the loop. For (2), @tf.function has experimental_relax_shapes=True option that relaxes argument shapes that can avoid unnecessary retracing. For (3), please refer to https://www.tensorflow.org/tutorials/customization/performance#python_or_tensor_args and https://www.tensorflow.org/api_docs/python/tf/function for  more details.\n",
            "3/3 [==============================] - 0s 4ms/step - loss: 0.3856 - accuracy: 0.8090\n",
            "Score for fold 6: loss of 0.3856138586997986; accuracy of 80.89887499809265%\n",
            "------------------------------------------------------------------------\n",
            "Training for fold 7 ...\n",
            "WARNING:tensorflow:5 out of the last 13 calls to <function Model.make_test_function.<locals>.test_function at 0x7fb5774c0598> triggered tf.function retracing. Tracing is expensive and the excessive number of tracings could be due to (1) creating @tf.function repeatedly in a loop, (2) passing tensors with different shapes, (3) passing Python objects instead of tensors. For (1), please define your @tf.function outside of the loop. For (2), @tf.function has experimental_relax_shapes=True option that relaxes argument shapes that can avoid unnecessary retracing. For (3), please refer to https://www.tensorflow.org/tutorials/customization/performance#python_or_tensor_args and https://www.tensorflow.org/api_docs/python/tf/function for  more details.\n",
            "3/3 [==============================] - 0s 2ms/step - loss: 0.4858 - accuracy: 0.7640\n",
            "Score for fold 7: loss of 0.48583805561065674; accuracy of 76.40449404716492%\n",
            "------------------------------------------------------------------------\n",
            "Training for fold 8 ...\n",
            "WARNING:tensorflow:5 out of the last 13 calls to <function Model.make_test_function.<locals>.test_function at 0x7fb57f6e4730> triggered tf.function retracing. Tracing is expensive and the excessive number of tracings could be due to (1) creating @tf.function repeatedly in a loop, (2) passing tensors with different shapes, (3) passing Python objects instead of tensors. For (1), please define your @tf.function outside of the loop. For (2), @tf.function has experimental_relax_shapes=True option that relaxes argument shapes that can avoid unnecessary retracing. For (3), please refer to https://www.tensorflow.org/tutorials/customization/performance#python_or_tensor_args and https://www.tensorflow.org/api_docs/python/tf/function for  more details.\n",
            "3/3 [==============================] - 0s 3ms/step - loss: 0.3740 - accuracy: 0.8202\n",
            "Score for fold 8: loss of 0.37403449416160583; accuracy of 82.02247023582458%\n",
            "------------------------------------------------------------------------\n",
            "Training for fold 9 ...\n",
            "WARNING:tensorflow:5 out of the last 13 calls to <function Model.make_test_function.<locals>.test_function at 0x7fb57f5e3c80> triggered tf.function retracing. Tracing is expensive and the excessive number of tracings could be due to (1) creating @tf.function repeatedly in a loop, (2) passing tensors with different shapes, (3) passing Python objects instead of tensors. For (1), please define your @tf.function outside of the loop. For (2), @tf.function has experimental_relax_shapes=True option that relaxes argument shapes that can avoid unnecessary retracing. For (3), please refer to https://www.tensorflow.org/tutorials/customization/performance#python_or_tensor_args and https://www.tensorflow.org/api_docs/python/tf/function for  more details.\n",
            "3/3 [==============================] - 0s 3ms/step - loss: 0.3635 - accuracy: 0.8539\n",
            "Score for fold 9: loss of 0.3635499179363251; accuracy of 85.39325594902039%\n",
            "------------------------------------------------------------------------\n",
            "Training for fold 10 ...\n",
            "WARNING:tensorflow:5 out of the last 13 calls to <function Model.make_test_function.<locals>.test_function at 0x7fb585f54730> triggered tf.function retracing. Tracing is expensive and the excessive number of tracings could be due to (1) creating @tf.function repeatedly in a loop, (2) passing tensors with different shapes, (3) passing Python objects instead of tensors. For (1), please define your @tf.function outside of the loop. For (2), @tf.function has experimental_relax_shapes=True option that relaxes argument shapes that can avoid unnecessary retracing. For (3), please refer to https://www.tensorflow.org/tutorials/customization/performance#python_or_tensor_args and https://www.tensorflow.org/api_docs/python/tf/function for  more details.\n",
            "3/3 [==============================] - 0s 3ms/step - loss: 0.3880 - accuracy: 0.8295\n",
            "Score for fold 10: loss of 0.3879869282245636; accuracy of 82.95454382896423%\n"
          ],
          "name": "stdout"
        }
      ]
    },
    {
      "cell_type": "code",
      "metadata": {
        "id": "PosrwyiIyTN2",
        "colab": {
          "base_uri": "https://localhost:8080/",
          "height": 503
        },
        "outputId": "41ed92e6-12c0-4795-e009-59b936307d48"
      },
      "source": [
        "\n",
        "# Printing average score for each fold\n",
        "print('------------------------------------------------------------------------')\n",
        "print('Score per fold')\n",
        "\n",
        "for i in range(0, len(acc_per_fold)):\n",
        "  print('------------------------------------------------------------------------')\n",
        "  print(f'> Fold {i+1} - Loss: {loss_per_fold[i]} - Accuracy: {acc_per_fold[i]}%')\n",
        "  \n",
        "print('------------------------------------------------------------------------')\n",
        "print('Average scores for all folds:')\n",
        "print(f'> Accuracy: {np.mean(acc_per_fold)} (+- {np.std(acc_per_fold)})')\n",
        "print(f'> Loss: {np.mean(loss_per_fold)}')\n",
        "print('-----------------------------------')"
      ],
      "execution_count": null,
      "outputs": [
        {
          "output_type": "stream",
          "text": [
            "------------------------------------------------------------------------\n",
            "Score per fold\n",
            "------------------------------------------------------------------------\n",
            "> Fold 1 - Loss: 0.35939693450927734 - Accuracy: 84.26966071128845%\n",
            "------------------------------------------------------------------------\n",
            "> Fold 2 - Loss: 0.4663206934928894 - Accuracy: 80.89887499809265%\n",
            "------------------------------------------------------------------------\n",
            "> Fold 3 - Loss: 0.5049459338188171 - Accuracy: 83.14606547355652%\n",
            "------------------------------------------------------------------------\n",
            "> Fold 4 - Loss: 0.46690693497657776 - Accuracy: 80.89887499809265%\n",
            "------------------------------------------------------------------------\n",
            "> Fold 5 - Loss: 0.5484333038330078 - Accuracy: 75.28089880943298%\n",
            "------------------------------------------------------------------------\n",
            "> Fold 6 - Loss: 0.3856138586997986 - Accuracy: 80.89887499809265%\n",
            "------------------------------------------------------------------------\n",
            "> Fold 7 - Loss: 0.48583805561065674 - Accuracy: 76.40449404716492%\n",
            "------------------------------------------------------------------------\n",
            "> Fold 8 - Loss: 0.37403449416160583 - Accuracy: 82.02247023582458%\n",
            "------------------------------------------------------------------------\n",
            "> Fold 9 - Loss: 0.3635499179363251 - Accuracy: 85.39325594902039%\n",
            "------------------------------------------------------------------------\n",
            "> Fold 10 - Loss: 0.3879869282245636 - Accuracy: 82.95454382896423%\n",
            "------------------------------------------------------------------------\n",
            "Average scores for all folds:\n",
            "> Accuracy: 81.216801404953 (+- 3.047131547479549)\n",
            "> Loss: 0.4343027055263519\n",
            "-----------------------------------\n"
          ],
          "name": "stdout"
        }
      ]
    },
    {
      "cell_type": "markdown",
      "metadata": {
        "id": "hn8piuMSayfd"
      },
      "source": [
        "### **Confusion Matrix**"
      ]
    },
    {
      "cell_type": "markdown",
      "metadata": {
        "id": "RmyrGnjbsbCr"
      },
      "source": [
        "Previsão dos valores a partir do conjunto de validação:"
      ]
    },
    {
      "cell_type": "code",
      "metadata": {
        "id": "oQB71Be6BsnW"
      },
      "source": [
        "model.load_weights('model.h5')"
      ],
      "execution_count": null,
      "outputs": []
    },
    {
      "cell_type": "code",
      "metadata": {
        "id": "hIihI_IgKSV1"
      },
      "source": [
        "prediction = model.predict(X_val)"
      ],
      "execution_count": null,
      "outputs": []
    },
    {
      "cell_type": "markdown",
      "metadata": {
        "id": "JR0ipJ2n3Y6G"
      },
      "source": [
        "Plotting confusion matrix for Neural Network predictions:"
      ]
    },
    {
      "cell_type": "code",
      "metadata": {
        "id": "7l1lDS0o2HwX",
        "colab": {
          "base_uri": "https://localhost:8080/",
          "height": 295
        },
        "outputId": "aa9fad4d-6b24-471d-a580-d8950b62dcc3"
      },
      "source": [
        "\n",
        "c_matrix(np.array(y_val),np.argmax(prediction, axis=1))\n"
      ],
      "execution_count": null,
      "outputs": [
        {
          "output_type": "display_data",
          "data": {
            "image/png": "[encoded data removed]",
            "text/plain": [
              "<Figure size 432x288 with 2 Axes>"
            ]
          },
          "metadata": {
            "tags": [],
            "needs_background": "light"
          }
        }
      ]
    },
    {
      "cell_type": "markdown",
      "metadata": {
        "id": "SiJ7F8eMdJv5"
      },
      "source": [
        "### **Curva ROC**"
      ]
    },
    {
      "cell_type": "code",
      "metadata": {
        "id": "nR3Ci-SjdJF4",
        "colab": {
          "base_uri": "https://localhost:8080/",
          "height": 279
        },
        "outputId": "3bb7fcd8-0225-4b7a-e675-52c4cd8c333a"
      },
      "source": [
        "# roc curve and auc\n",
        "from sklearn.metrics import roc_curve\n",
        "from sklearn.metrics import roc_auc_score\n",
        "from matplotlib import pyplot\n",
        "\n",
        "ns_probs = [0 for _ in range(len(y_val))]\n",
        "# fit a model\n",
        "\n",
        "# predict probabilities\n",
        "lr_probs = prediction\n",
        "# keep probabilities for the positive outcome only\n",
        "lr_probs = lr_probs[:, 1]\n",
        "# calculate scores\n",
        "ns_auc = roc_auc_score(y_val, ns_probs)\n",
        "lr_auc = roc_auc_score(y_val, lr_probs)\n",
        "\n",
        "# calculate roc curves\n",
        "ns_fpr, ns_tpr, _ = roc_curve(y_val, ns_probs)\n",
        "lr_fpr, lr_tpr, _ = roc_curve(y_val, lr_probs)\n",
        "# plot the roc curve for the model\n",
        "pyplot.plot(ns_fpr, ns_tpr, linestyle='--')\n",
        "pyplot.plot(lr_fpr, lr_tpr, label=f'ROC AUC = {lr_auc:0.3f}')\n",
        "# axis labels\n",
        "pyplot.xlabel('False Positive Rate')\n",
        "pyplot.ylabel('True Positive Rate')\n",
        "# show the legend\n",
        "pyplot.legend()\n",
        "# show the plot\n",
        "pyplot.show()"
      ],
      "execution_count": null,
      "outputs": [
        {
          "output_type": "display_data",
          "data": {
            "image/png": "[encoded data removed]",
            "text/plain": [
              "<Figure size 432x288 with 1 Axes>"
            ]
          },
          "metadata": {
            "tags": [],
            "needs_background": "light"
          }
        }
      ]
    },
    {
      "cell_type": "markdown",
      "metadata": {
        "id": "VcE59XjAkTpC"
      },
      "source": [
        "# **Predição para o Conjunto de Teste**"
      ]
    },
    {
      "cell_type": "code",
      "metadata": {
        "id": "eaa73EQ4kP8t"
      },
      "source": [
        "df_test = pd.read_csv('/content/test.csv')"
      ],
      "execution_count": null,
      "outputs": []
    },
    {
      "cell_type": "markdown",
      "metadata": {
        "id": "aUZtxSBREYUe"
      },
      "source": [
        "Contando valores faltantes:"
      ]
    },
    {
      "cell_type": "code",
      "metadata": {
        "id": "POWtX-JVEXdM",
        "colab": {
          "base_uri": "https://localhost:8080/"
        },
        "outputId": "8c44aa66-5771-4563-8800-91adbe7aa6f4"
      },
      "source": [
        "print(df_test.isna().sum())\n",
        "print(df_test.shape)"
      ],
      "execution_count": null,
      "outputs": [
        {
          "output_type": "stream",
          "text": [
            "PassengerId      0\n",
            "Pclass           0\n",
            "Name             0\n",
            "Sex              0\n",
            "Age             86\n",
            "SibSp            0\n",
            "Parch            0\n",
            "Ticket           0\n",
            "Fare             1\n",
            "Cabin          327\n",
            "Embarked         0\n",
            "dtype: int64\n",
            "(418, 11)\n"
          ],
          "name": "stdout"
        }
      ]
    },
    {
      "cell_type": "markdown",
      "metadata": {
        "id": "Pdhn4WGT0XRd"
      },
      "source": [
        "Preenchendo valores faltantes para idade, usando mesmo método aplicado ao conjunto de treino, mas a partir dos dados do conjunto de teste:\n",
        "\n"
      ]
    },
    {
      "cell_type": "code",
      "metadata": {
        "id": "qXXirrwzCqzC",
        "colab": {
          "base_uri": "https://localhost:8080/"
        },
        "outputId": "cd819bda-65a1-462e-a25b-c939f1c32f5b"
      },
      "source": [
        "df_test['Title'] = df_test['Name'].str.extract('([A-Za-z]+)\\.', expand=True)\n",
        "print(df_test['Title'].unique())"
      ],
      "execution_count": null,
      "outputs": [
        {
          "output_type": "stream",
          "text": [
            "['Mr' 'Mrs' 'Miss' 'Master' 'Ms' 'Col' 'Rev' 'Dr' 'Dona']\n"
          ],
          "name": "stdout"
        }
      ]
    },
    {
      "cell_type": "code",
      "metadata": {
        "id": "jN7w1TXxxdfU",
        "colab": {
          "base_uri": "https://localhost:8080/"
        },
        "outputId": "36391546-466f-489c-cab9-bd20f3d7af04"
      },
      "source": [
        "#substitute Ms by Miss\n",
        "df_test['Title'] = df_test['Title'].replace('Ms','Miss')\n",
        "\n",
        "#replacing age missing values \n",
        "for title, age in df_test.groupby('Title')['Age'].median().iteritems():\n",
        "    print(title, age)\n",
        "    df_test.loc[(df_test['Title']==title) & (df_test['Age'].isnull()), 'Age'] = age"
      ],
      "execution_count": null,
      "outputs": [
        {
          "output_type": "stream",
          "text": [
            "Col 50.0\n",
            "Dona 39.0\n",
            "Dr 53.0\n",
            "Master 7.0\n",
            "Miss 22.0\n",
            "Mr 28.5\n",
            "Mrs 36.5\n",
            "Rev 35.5\n"
          ],
          "name": "stdout"
        }
      ]
    },
    {
      "cell_type": "markdown",
      "metadata": {
        "id": "Tmk7uhApFcxj"
      },
      "source": [
        "Excluindo colunas:"
      ]
    },
    {
      "cell_type": "code",
      "metadata": {
        "id": "HXTNF1pwFb6e"
      },
      "source": [
        "df_test_drop = df_test.drop(columns=['Name','Cabin','PassengerId','Ticket','Title'])"
      ],
      "execution_count": null,
      "outputs": []
    },
    {
      "cell_type": "markdown",
      "metadata": {
        "id": "k9Wt0PCc0b-l"
      },
      "source": [
        "Preenchendo o restante dos valores faltantes:"
      ]
    },
    {
      "cell_type": "code",
      "metadata": {
        "id": "AmWZuZu6k7Qf",
        "colab": {
          "base_uri": "https://localhost:8080/"
        },
        "outputId": "e78d00b6-ffb2-4f6d-a12a-c030032c5ffd"
      },
      "source": [
        "#filling 'Fare' single missing value with 0\n",
        "data_test = df_test_drop.fillna(0)\n",
        "print(data_test.isna().isna().sum())\n",
        "print(data_test.shape)"
      ],
      "execution_count": null,
      "outputs": [
        {
          "output_type": "stream",
          "text": [
            "Pclass      0\n",
            "Sex         0\n",
            "Age         0\n",
            "SibSp       0\n",
            "Parch       0\n",
            "Fare        0\n",
            "Embarked    0\n",
            "dtype: int64\n",
            "(418, 7)\n"
          ],
          "name": "stdout"
        }
      ]
    },
    {
      "cell_type": "markdown",
      "metadata": {
        "id": "0zfUKLn-GnTr"
      },
      "source": [
        "### **Encoding and Scaling Data**"
      ]
    },
    {
      "cell_type": "markdown",
      "metadata": {
        "id": "S4gT83RSHCpU"
      },
      "source": [
        "Processando dados categóricos do conjunto de teste:"
      ]
    },
    {
      "cell_type": "code",
      "metadata": {
        "id": "Yx30YpLYF-RR"
      },
      "source": [
        "#onehot encoding comuns: 'Sex','Embarked' and 'Pclass'\n",
        "data_test_encoded = pd.get_dummies(data_test, columns = ['Sex','Embarked','Pclass'])\n"
      ],
      "execution_count": null,
      "outputs": []
    },
    {
      "cell_type": "markdown",
      "metadata": {
        "id": "cv4GGyw4G3tB"
      },
      "source": [
        "Reescalando dados 'Fare' e 'Age':"
      ]
    },
    {
      "cell_type": "code",
      "metadata": {
        "id": "_1bmPIKAlcNG"
      },
      "source": [
        "data_test_encoded[['Age','Fare']] = preprocessing.StandardScaler().fit_transform(data_test_encoded[['Age','Fare']])"
      ],
      "execution_count": null,
      "outputs": []
    },
    {
      "cell_type": "markdown",
      "metadata": {
        "id": "ZDgp0x7QHHw3"
      },
      "source": [
        "# **Prevendo e Salvando Valores para o Conjunto de Teste**"
      ]
    },
    {
      "cell_type": "markdown",
      "metadata": {
        "id": "dJ-yq7gGtFTO"
      },
      "source": [
        "Prevendo valores:"
      ]
    },
    {
      "cell_type": "code",
      "metadata": {
        "id": "QGsd_O-TlMl9"
      },
      "source": [
        "predictions_test = model.predict(data_test_encoded)"
      ],
      "execution_count": null,
      "outputs": []
    },
    {
      "cell_type": "markdown",
      "metadata": {
        "id": "VQ5KHqNztMj8"
      },
      "source": [
        "\n",
        "\n",
        "Salvando predições em um arquivo *.csv:"
      ]
    },
    {
      "cell_type": "code",
      "metadata": {
        "id": "KUgx1j1smZlm"
      },
      "source": [
        "output = pd.DataFrame({'PassengerId': [df_test['PassengerId'].iloc[i] for i in range(len(df_test['PassengerId']))], 'Survived': np.argmax(predictions_test, axis=1)})\n",
        "output.to_csv('submission.csv', index=False)"
      ],
      "execution_count": null,
      "outputs": []
    },
    {
      "cell_type": "code",
      "metadata": {
        "id": "NXg7qOCmkmQx",
        "colab": {
          "base_uri": "https://localhost:8080/",
          "height": 269
        },
        "outputId": "d7385102-1edc-44ad-e9d4-fd4b92cd4ddf"
      },
      "source": [
        "sub = pd.read_csv('/content/submission.csv')\n",
        "print(sub)\n"
      ],
      "execution_count": null,
      "outputs": [
        {
          "output_type": "stream",
          "text": [
            "     PassengerId  Survived\n",
            "0            892         0\n",
            "1            893         0\n",
            "2            894         0\n",
            "3            895         0\n",
            "4            896         0\n",
            "..           ...       ...\n",
            "413         1305         0\n",
            "414         1306         1\n",
            "415         1307         0\n",
            "416         1308         0\n",
            "417         1309         1\n",
            "\n",
            "[418 rows x 2 columns]\n"
          ],
          "name": "stdout"
        }
      ]
    }
  ]
}